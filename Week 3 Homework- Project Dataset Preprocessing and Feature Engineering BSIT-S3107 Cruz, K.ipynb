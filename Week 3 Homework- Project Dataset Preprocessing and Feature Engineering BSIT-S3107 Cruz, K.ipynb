{
 "cells": [
  {
   "cell_type": "markdown",
   "id": "28c32eef-5be3-4c5e-bbf5-08a8da5271a7",
   "metadata": {},
   "source": [
    "# WEEK 3 -  HOMEWORK PROJECT DATASET PREPROCESSING AND FEATURE ENGINEERING"
   ]
  },
  {
   "cell_type": "code",
   "execution_count": 2,
   "id": "83ef112a-d1c3-42ae-8946-be39d57507bd",
   "metadata": {},
   "outputs": [],
   "source": [
    "# Importing necessary libraries\n",
    "import pandas as pd\n",
    "import os\n",
    "import numpy as np\n",
    "import matplotlib.pyplot as plt\n",
    "import seaborn as sns\n",
    "from sklearn.preprocessing import StandardScaler\n",
    "from sklearn.cluster import KMeans\n",
    "from sklearn.decomposition import PCA"
   ]
  },
  {
   "cell_type": "code",
   "execution_count": 6,
   "id": "5351bf85-d7f5-4bed-b8d5-1cceb55f53ed",
   "metadata": {},
   "outputs": [],
   "source": [
    "# Load datasets\n",
    "transactions_file = \"DMP - FM - Transaction_Data.csv\"\n",
    "products_file = \"DMP - FM - Product_Offering_Data.csv\"\n",
    "customers_file = \"DMP - FM - Customer_Feedback_Data.csv\"\n",
    "transactions_data = pd.read_csv(transactions_file)\n",
    "products_data = pd.read_csv(products_file)\n",
    "customers_data = pd.read_csv(customers_file)"
   ]
  },
  {
   "cell_type": "markdown",
   "id": "ecc934fa-c059-45de-9a41-f1ea13444871",
   "metadata": {},
   "source": [
    "# Datasets Preprocessesing"
   ]
  },
  {
   "cell_type": "code",
   "execution_count": 8,
   "id": "734faca7-52a5-42a2-a5b3-fe2ba4f1c564",
   "metadata": {},
   "outputs": [
    {
     "data": {
      "text/html": [
       "<div>\n",
       "<style scoped>\n",
       "    .dataframe tbody tr th:only-of-type {\n",
       "        vertical-align: middle;\n",
       "    }\n",
       "\n",
       "    .dataframe tbody tr th {\n",
       "        vertical-align: top;\n",
       "    }\n",
       "\n",
       "    .dataframe thead th {\n",
       "        text-align: right;\n",
       "    }\n",
       "</style>\n",
       "<table border=\"1\" class=\"dataframe\">\n",
       "  <thead>\n",
       "    <tr style=\"text-align: right;\">\n",
       "      <th></th>\n",
       "      <th>Transaction_ID</th>\n",
       "      <th>Customer_ID</th>\n",
       "      <th>Transaction_Date</th>\n",
       "      <th>Transaction_Amount</th>\n",
       "      <th>Transaction_Type</th>\n",
       "    </tr>\n",
       "  </thead>\n",
       "  <tbody>\n",
       "    <tr>\n",
       "      <th>0</th>\n",
       "      <td>1</td>\n",
       "      <td>393</td>\n",
       "      <td>2023-01-01 00:00:00</td>\n",
       "      <td>3472.0</td>\n",
       "      <td>Purchase</td>\n",
       "    </tr>\n",
       "    <tr>\n",
       "      <th>1</th>\n",
       "      <td>2</td>\n",
       "      <td>826</td>\n",
       "      <td>2023-01-01 01:00:00</td>\n",
       "      <td>NaN</td>\n",
       "      <td>Bill Payment</td>\n",
       "    </tr>\n",
       "    <tr>\n",
       "      <th>2</th>\n",
       "      <td>3</td>\n",
       "      <td>916</td>\n",
       "      <td>2023-01-01 02:00:00</td>\n",
       "      <td>10.0</td>\n",
       "      <td>Purchase</td>\n",
       "    </tr>\n",
       "    <tr>\n",
       "      <th>3</th>\n",
       "      <td>4</td>\n",
       "      <td>109</td>\n",
       "      <td>2023-01-01 03:00:00</td>\n",
       "      <td>72.0</td>\n",
       "      <td>Investment</td>\n",
       "    </tr>\n",
       "    <tr>\n",
       "      <th>4</th>\n",
       "      <td>5</td>\n",
       "      <td>889</td>\n",
       "      <td>2023-01-01 04:00:00</td>\n",
       "      <td>1793.0</td>\n",
       "      <td>Investment</td>\n",
       "    </tr>\n",
       "  </tbody>\n",
       "</table>\n",
       "</div>"
      ],
      "text/plain": [
       "   Transaction_ID  Customer_ID     Transaction_Date  Transaction_Amount  \\\n",
       "0               1          393  2023-01-01 00:00:00              3472.0   \n",
       "1               2          826  2023-01-01 01:00:00                 NaN   \n",
       "2               3          916  2023-01-01 02:00:00                10.0   \n",
       "3               4          109  2023-01-01 03:00:00                72.0   \n",
       "4               5          889  2023-01-01 04:00:00              1793.0   \n",
       "\n",
       "  Transaction_Type  \n",
       "0         Purchase  \n",
       "1     Bill Payment  \n",
       "2         Purchase  \n",
       "3       Investment  \n",
       "4       Investment  "
      ]
     },
     "execution_count": 8,
     "metadata": {},
     "output_type": "execute_result"
    }
   ],
   "source": [
    "transactions_data.head()"
   ]
  },
  {
   "cell_type": "code",
   "execution_count": 10,
   "id": "287b4f7a-8179-45f6-8cce-b1ee43c74fbd",
   "metadata": {},
   "outputs": [
    {
     "data": {
      "text/html": [
       "<div>\n",
       "<style scoped>\n",
       "    .dataframe tbody tr th:only-of-type {\n",
       "        vertical-align: middle;\n",
       "    }\n",
       "\n",
       "    .dataframe tbody tr th {\n",
       "        vertical-align: top;\n",
       "    }\n",
       "\n",
       "    .dataframe thead th {\n",
       "        text-align: right;\n",
       "    }\n",
       "</style>\n",
       "<table border=\"1\" class=\"dataframe\">\n",
       "  <thead>\n",
       "    <tr style=\"text-align: right;\">\n",
       "      <th></th>\n",
       "      <th>Product_ID</th>\n",
       "      <th>Product_Name</th>\n",
       "      <th>Product_Type</th>\n",
       "      <th>Risk_Level</th>\n",
       "      <th>Target_Age_Group</th>\n",
       "      <th>Target_Income_Group</th>\n",
       "    </tr>\n",
       "  </thead>\n",
       "  <tbody>\n",
       "    <tr>\n",
       "      <th>0</th>\n",
       "      <td>1</td>\n",
       "      <td>Platinum Credit Card</td>\n",
       "      <td>Credit Card</td>\n",
       "      <td>Medium</td>\n",
       "      <td>NaN</td>\n",
       "      <td>Medium</td>\n",
       "    </tr>\n",
       "    <tr>\n",
       "      <th>1</th>\n",
       "      <td>2</td>\n",
       "      <td>Gold Savings Account</td>\n",
       "      <td>Savings Account</td>\n",
       "      <td>Low</td>\n",
       "      <td>NaN</td>\n",
       "      <td>Low</td>\n",
       "    </tr>\n",
       "    <tr>\n",
       "      <th>2</th>\n",
       "      <td>3</td>\n",
       "      <td>High-Yield Investment Account</td>\n",
       "      <td>Investment</td>\n",
       "      <td>High</td>\n",
       "      <td>NaN</td>\n",
       "      <td>High</td>\n",
       "    </tr>\n",
       "    <tr>\n",
       "      <th>3</th>\n",
       "      <td>4</td>\n",
       "      <td>Mortgage Loan</td>\n",
       "      <td>Loan</td>\n",
       "      <td>Medium</td>\n",
       "      <td>NaN</td>\n",
       "      <td>High</td>\n",
       "    </tr>\n",
       "    <tr>\n",
       "      <th>4</th>\n",
       "      <td>5</td>\n",
       "      <td>Auto Loan</td>\n",
       "      <td>Loan</td>\n",
       "      <td>Medium</td>\n",
       "      <td>NaN</td>\n",
       "      <td>Medium</td>\n",
       "    </tr>\n",
       "  </tbody>\n",
       "</table>\n",
       "</div>"
      ],
      "text/plain": [
       "   Product_ID                   Product_Name     Product_Type Risk_Level  \\\n",
       "0           1           Platinum Credit Card      Credit Card     Medium   \n",
       "1           2           Gold Savings Account  Savings Account        Low   \n",
       "2           3  High-Yield Investment Account       Investment       High   \n",
       "3           4                  Mortgage Loan             Loan     Medium   \n",
       "4           5                      Auto Loan             Loan     Medium   \n",
       "\n",
       "   Target_Age_Group Target_Income_Group  \n",
       "0               NaN              Medium  \n",
       "1               NaN                 Low  \n",
       "2               NaN                High  \n",
       "3               NaN                High  \n",
       "4               NaN              Medium  "
      ]
     },
     "execution_count": 10,
     "metadata": {},
     "output_type": "execute_result"
    }
   ],
   "source": [
    "products_data.head()"
   ]
  },
  {
   "cell_type": "code",
   "execution_count": 12,
   "id": "576999f9-5c48-4ef3-be93-49e194b64941",
   "metadata": {
    "jupyter": {
     "source_hidden": true
    }
   },
   "outputs": [
    {
     "data": {
      "text/html": [
       "<div>\n",
       "<style scoped>\n",
       "    .dataframe tbody tr th:only-of-type {\n",
       "        vertical-align: middle;\n",
       "    }\n",
       "\n",
       "    .dataframe tbody tr th {\n",
       "        vertical-align: top;\n",
       "    }\n",
       "\n",
       "    .dataframe thead th {\n",
       "        text-align: right;\n",
       "    }\n",
       "</style>\n",
       "<table border=\"1\" class=\"dataframe\">\n",
       "  <thead>\n",
       "    <tr style=\"text-align: right;\">\n",
       "      <th></th>\n",
       "      <th>Customer_ID</th>\n",
       "      <th>Satisfaction_Score</th>\n",
       "      <th>Feedback_Comments</th>\n",
       "      <th>Likelihood_to_Recommend</th>\n",
       "    </tr>\n",
       "  </thead>\n",
       "  <tbody>\n",
       "    <tr>\n",
       "      <th>0</th>\n",
       "      <td>1</td>\n",
       "      <td>10.0</td>\n",
       "      <td>Very satisfied</td>\n",
       "      <td>9</td>\n",
       "    </tr>\n",
       "    <tr>\n",
       "      <th>1</th>\n",
       "      <td>2</td>\n",
       "      <td>3.0</td>\n",
       "      <td>Very satisfied</td>\n",
       "      <td>3</td>\n",
       "    </tr>\n",
       "    <tr>\n",
       "      <th>2</th>\n",
       "      <td>3</td>\n",
       "      <td>10.0</td>\n",
       "      <td>Very satisfied</td>\n",
       "      <td>1</td>\n",
       "    </tr>\n",
       "    <tr>\n",
       "      <th>3</th>\n",
       "      <td>4</td>\n",
       "      <td>7.0</td>\n",
       "      <td>Needs improvement</td>\n",
       "      <td>4</td>\n",
       "    </tr>\n",
       "    <tr>\n",
       "      <th>4</th>\n",
       "      <td>5</td>\n",
       "      <td>8.0</td>\n",
       "      <td>Unsatisfactory</td>\n",
       "      <td>7</td>\n",
       "    </tr>\n",
       "  </tbody>\n",
       "</table>\n",
       "</div>"
      ],
      "text/plain": [
       "   Customer_ID  Satisfaction_Score  Feedback_Comments  Likelihood_to_Recommend\n",
       "0            1                10.0     Very satisfied                        9\n",
       "1            2                 3.0     Very satisfied                        3\n",
       "2            3                10.0     Very satisfied                        1\n",
       "3            4                 7.0  Needs improvement                        4\n",
       "4            5                 8.0     Unsatisfactory                        7"
      ]
     },
     "execution_count": 12,
     "metadata": {},
     "output_type": "execute_result"
    }
   ],
   "source": [
    "customers_data.head()"
   ]
  },
  {
   "cell_type": "markdown",
   "id": "c7192de4-387c-4938-9edb-7df5e7065025",
   "metadata": {},
   "source": [
    "## Transactions Data Preprocessing"
   ]
  },
  {
   "cell_type": "code",
   "execution_count": 16,
   "id": "a10b6af8-991b-4f52-980f-9fb2bcfe2b9f",
   "metadata": {},
   "outputs": [
    {
     "name": "stdout",
     "output_type": "stream",
     "text": [
      "First few rows of the data:\n",
      "   Transaction_ID  Customer_ID     Transaction_Date  Transaction_Amount  \\\n",
      "0               1          393  2023-01-01 00:00:00              3472.0   \n",
      "1               2          826  2023-01-01 01:00:00                 NaN   \n",
      "2               3          916  2023-01-01 02:00:00                10.0   \n",
      "3               4          109  2023-01-01 03:00:00                72.0   \n",
      "4               5          889  2023-01-01 04:00:00              1793.0   \n",
      "\n",
      "  Transaction_Type  \n",
      "0         Purchase  \n",
      "1     Bill Payment  \n",
      "2         Purchase  \n",
      "3       Investment  \n",
      "4       Investment  \n",
      "\n",
      "Summary of the data:\n",
      "<class 'pandas.core.frame.DataFrame'>\n",
      "RangeIndex: 5050 entries, 0 to 5049\n",
      "Data columns (total 5 columns):\n",
      " #   Column              Non-Null Count  Dtype  \n",
      "---  ------              --------------  -----  \n",
      " 0   Transaction_ID      5050 non-null   int64  \n",
      " 1   Customer_ID         5050 non-null   int64  \n",
      " 2   Transaction_Date    5050 non-null   object \n",
      " 3   Transaction_Amount  4950 non-null   float64\n",
      " 4   Transaction_Type    5050 non-null   object \n",
      "dtypes: float64(1), int64(2), object(2)\n",
      "memory usage: 197.4+ KB\n",
      "None\n"
     ]
    }
   ],
   "source": [
    "# 1. Inspect the data\n",
    "print(\"First few rows of the data:\")\n",
    "print(transactions_data.head())\n",
    "\n",
    "print(\"\\nSummary of the data:\")\n",
    "print(transactions_data.info())"
   ]
  },
  {
   "cell_type": "code",
   "execution_count": 18,
   "id": "8e8124e0-1b8b-4da4-af80-39b7ad615561",
   "metadata": {},
   "outputs": [
    {
     "name": "stdout",
     "output_type": "stream",
     "text": [
      "\n",
      "Number of duplicate rows: 50\n",
      "Duplicates removed.\n"
     ]
    }
   ],
   "source": [
    "# 2. Check for duplicates\n",
    "print(\"\\nNumber of duplicate rows:\", transactions_data.duplicated().sum())\n",
    "transactions_data = transactions_data.drop_duplicates()\n",
    "print(\"Duplicates removed.\")"
   ]
  },
  {
   "cell_type": "code",
   "execution_count": 20,
   "id": "cee01eb3-2c6f-4eec-a372-154f76ba998e",
   "metadata": {},
   "outputs": [
    {
     "name": "stdout",
     "output_type": "stream",
     "text": [
      "\n",
      "Missing values in each column:\n",
      "Transaction_ID          0\n",
      "Customer_ID             0\n",
      "Transaction_Date        0\n",
      "Transaction_Amount    100\n",
      "Transaction_Type        0\n",
      "dtype: int64\n"
     ]
    }
   ],
   "source": [
    "# 3. Check for missing values\n",
    "print(\"\\nMissing values in each column:\")\n",
    "print(transactions_data.isnull().sum())"
   ]
  },
  {
   "cell_type": "code",
   "execution_count": 22,
   "id": "d96da741-8c0e-425f-b1f4-a7e00bcec9ac",
   "metadata": {},
   "outputs": [],
   "source": [
    "# Handle missing values for transactions_data\n",
    "# For Transaction_Amount, we will fill missing values with the mean of the Transaction_Type group\n",
    "transactions_data['Transaction_Amount'] = transactions_data.groupby('Transaction_Type')['Transaction_Amount'].transform(lambda x: x.fillna(x.mean()))"
   ]
  },
  {
   "cell_type": "code",
   "execution_count": 24,
   "id": "aa13814f-79cd-419d-a743-0ed86487f626",
   "metadata": {},
   "outputs": [
    {
     "name": "stdout",
     "output_type": "stream",
     "text": [
      "\n",
      "Column data types before fixing:\n",
      "Transaction_ID          int64\n",
      "Customer_ID             int64\n",
      "Transaction_Date       object\n",
      "Transaction_Amount    float64\n",
      "Transaction_Type       object\n",
      "dtype: object\n"
     ]
    }
   ],
   "source": [
    "# 4. Check and fix data types if necessary\n",
    "print(\"\\nColumn data types before fixing:\")\n",
    "print(transactions_data.dtypes)"
   ]
  },
  {
   "cell_type": "code",
   "execution_count": 28,
   "id": "14d4c283-0738-4b3f-a998-e6a0e04854bb",
   "metadata": {},
   "outputs": [
    {
     "name": "stdout",
     "output_type": "stream",
     "text": [
      "\n",
      "Describe the numeric columns:\n",
      "       Transaction_ID  Customer_ID  Transaction_Amount\n",
      "count     5000.000000  5000.000000         5000.000000\n",
      "mean      2500.500000   505.295400         3103.231136\n",
      "std       1443.520003   291.844284        14743.580770\n",
      "min          1.000000     1.000000           10.000000\n",
      "25%       1250.750000   252.000000         1260.000000\n",
      "50%       2500.500000   509.000000         2539.000000\n",
      "75%       3750.250000   765.250000         3724.000000\n",
      "max       5000.000000  1000.000000       480300.000000\n"
     ]
    }
   ],
   "source": [
    "# 5. Check for outliers (example: Amount column)\n",
    "print(\"\\nDescribe the numeric columns:\")\n",
    "print(transactions_data.describe())"
   ]
  },
  {
   "cell_type": "code",
   "execution_count": 38,
   "id": "c672a6ab-7a78-422d-b3f6-2c6c392615b9",
   "metadata": {},
   "outputs": [],
   "source": [
    "# Remove extreme outliers in the 'Amount' column\n",
    "transactions_data = transactions_data[transactions_data['Transaction_Amount'] < transactions_data['Transaction_Amount'].quantile(0.99)]"
   ]
  },
  {
   "cell_type": "code",
   "execution_count": 40,
   "id": "c8ca061d-c2e3-4716-8edc-0ede88d6fea8",
   "metadata": {},
   "outputs": [
    {
     "name": "stdout",
     "output_type": "stream",
     "text": [
      "\n",
      "Summary of cleaned data:\n",
      "<class 'pandas.core.frame.DataFrame'>\n",
      "Index: 4950 entries, 0 to 4999\n",
      "Data columns (total 5 columns):\n",
      " #   Column              Non-Null Count  Dtype         \n",
      "---  ------              --------------  -----         \n",
      " 0   Transaction_ID      4950 non-null   int64         \n",
      " 1   Customer_ID         4950 non-null   int64         \n",
      " 2   Transaction_Date    4950 non-null   datetime64[ns]\n",
      " 3   Transaction_Amount  4950 non-null   float64       \n",
      " 4   Transaction_Type    4950 non-null   object        \n",
      "dtypes: datetime64[ns](1), float64(1), int64(2), object(1)\n",
      "memory usage: 232.0+ KB\n",
      "None\n"
     ]
    }
   ],
   "source": [
    "# 6. Verify the cleaned data\n",
    "print(\"\\nSummary of cleaned data:\")\n",
    "print(transactions_data.info())"
   ]
  },
  {
   "cell_type": "code",
   "execution_count": 94,
   "id": "590f62ee-3aee-44b6-a523-62ea80e675eb",
   "metadata": {},
   "outputs": [],
   "source": [
    "# 7. Save the cleaned data \n",
    "transactions_data.to_csv('Cleaned_Transactions_Data.csv', index=False)"
   ]
  },
  {
   "cell_type": "markdown",
   "id": "be99aa1b-ccb0-4770-9a55-f98faedf8724",
   "metadata": {},
   "source": [
    "## Products Data Preprocessing"
   ]
  },
  {
   "cell_type": "code",
   "execution_count": 46,
   "id": "21475123-60f7-488a-b85f-7e5d763a8ed0",
   "metadata": {},
   "outputs": [
    {
     "name": "stdout",
     "output_type": "stream",
     "text": [
      "First few rows of the data:\n",
      "   Product_ID                   Product_Name     Product_Type Risk_Level  \\\n",
      "0           1           Platinum Credit Card      Credit Card     Medium   \n",
      "1           2           Gold Savings Account  Savings Account        Low   \n",
      "2           3  High-Yield Investment Account       Investment       High   \n",
      "3           4                  Mortgage Loan             Loan     Medium   \n",
      "4           5                      Auto Loan             Loan     Medium   \n",
      "\n",
      "   Target_Age_Group Target_Income_Group  \n",
      "0               NaN              Medium  \n",
      "1               NaN                 Low  \n",
      "2               NaN                High  \n",
      "3               NaN                High  \n",
      "4               NaN              Medium  \n",
      "\n",
      "Summary of the data:\n",
      "<class 'pandas.core.frame.DataFrame'>\n",
      "RangeIndex: 15 entries, 0 to 14\n",
      "Data columns (total 6 columns):\n",
      " #   Column               Non-Null Count  Dtype  \n",
      "---  ------               --------------  -----  \n",
      " 0   Product_ID           15 non-null     int64  \n",
      " 1   Product_Name         15 non-null     object \n",
      " 2   Product_Type         15 non-null     object \n",
      " 3   Risk_Level           15 non-null     object \n",
      " 4   Target_Age_Group     0 non-null      float64\n",
      " 5   Target_Income_Group  15 non-null     object \n",
      "dtypes: float64(1), int64(1), object(4)\n",
      "memory usage: 852.0+ bytes\n",
      "None\n"
     ]
    }
   ],
   "source": [
    "# 1. Inspect the data\n",
    "print(\"First few rows of the data:\")\n",
    "print(products_data.head())\n",
    "\n",
    "print(\"\\nSummary of the data:\")\n",
    "print(products_data.info())"
   ]
  },
  {
   "cell_type": "code",
   "execution_count": 54,
   "id": "c03d9598-cdeb-47ab-ab55-8db7fdbf0f21",
   "metadata": {},
   "outputs": [
    {
     "name": "stdout",
     "output_type": "stream",
     "text": [
      "\n",
      "Number of duplicate rows: 0\n",
      "Duplicates removed.\n"
     ]
    }
   ],
   "source": [
    "# 2. Check for duplicates\n",
    "print(\"\\nNumber of duplicate rows:\", products_data.duplicated().sum())\n",
    "products_data = products_data.drop_duplicates()\n",
    "print(\"Duplicates removed.\")"
   ]
  },
  {
   "cell_type": "code",
   "execution_count": 50,
   "id": "dedc7289-4968-4068-8624-7e22af050725",
   "metadata": {},
   "outputs": [
    {
     "name": "stdout",
     "output_type": "stream",
     "text": [
      "\n",
      "Missing values in each column:\n",
      "Product_ID              0\n",
      "Product_Name            0\n",
      "Product_Type            0\n",
      "Risk_Level              0\n",
      "Target_Age_Group       10\n",
      "Target_Income_Group     0\n",
      "dtype: int64\n"
     ]
    }
   ],
   "source": [
    "# 3. Check for missing values\n",
    "print(\"\\nMissing values in each column:\")\n",
    "print(products_data.isnull().sum())"
   ]
  },
  {
   "cell_type": "code",
   "execution_count": 52,
   "id": "18cf81f1-c453-4c3d-be5b-ce4914939164",
   "metadata": {},
   "outputs": [],
   "source": [
    "# Handle missing values (example: fill missing Target_Age_Group with \"Unknown\")\n",
    "products_data['Target_Age_Group'] = products_data['Target_Age_Group'].fillna(\"Unknown\")"
   ]
  },
  {
   "cell_type": "code",
   "execution_count": 56,
   "id": "6f79f7b5-f03c-4d24-a78e-9fbe84ddc0ee",
   "metadata": {},
   "outputs": [
    {
     "name": "stdout",
     "output_type": "stream",
     "text": [
      "\n",
      "Column data types before fixing:\n",
      "Product_ID              int64\n",
      "Product_Name           object\n",
      "Product_Type           object\n",
      "Risk_Level             object\n",
      "Target_Age_Group       object\n",
      "Target_Income_Group    object\n",
      "dtype: object\n"
     ]
    }
   ],
   "source": [
    "# 4. Check and fix data types if necessary\n",
    "print(\"\\nColumn data types before fixing:\")\n",
    "print(products_data.dtypes)"
   ]
  },
  {
   "cell_type": "code",
   "execution_count": 58,
   "id": "65aae6a9-9b32-45be-8172-94f5fa0256ad",
   "metadata": {
    "scrolled": true
   },
   "outputs": [
    {
     "name": "stdout",
     "output_type": "stream",
     "text": [
      "\n",
      "Summary of cleaned data:\n",
      "<class 'pandas.core.frame.DataFrame'>\n",
      "Index: 10 entries, 0 to 9\n",
      "Data columns (total 6 columns):\n",
      " #   Column               Non-Null Count  Dtype \n",
      "---  ------               --------------  ----- \n",
      " 0   Product_ID           10 non-null     int64 \n",
      " 1   Product_Name         10 non-null     object\n",
      " 2   Product_Type         10 non-null     object\n",
      " 3   Risk_Level           10 non-null     object\n",
      " 4   Target_Age_Group     10 non-null     object\n",
      " 5   Target_Income_Group  10 non-null     object\n",
      "dtypes: int64(1), object(5)\n",
      "memory usage: 560.0+ bytes\n",
      "None\n"
     ]
    }
   ],
   "source": [
    "# 5. Verify the cleaned data\n",
    "print(\"\\nSummary of cleaned data:\")\n",
    "print(products_data.info())"
   ]
  },
  {
   "cell_type": "code",
   "execution_count": 96,
   "id": "dd8f944a-f73b-4d58-8882-2a7f2f783211",
   "metadata": {},
   "outputs": [],
   "source": [
    "# 6. Save the cleaned data \n",
    "products_data.to_csv('Cleaned_Products_Data.csv', index=False)"
   ]
  },
  {
   "cell_type": "markdown",
   "id": "b34cc027-d790-430f-9379-54e63daa238f",
   "metadata": {},
   "source": [
    "## Customers Data Preprocessing"
   ]
  },
  {
   "cell_type": "code",
   "execution_count": 61,
   "id": "aeb9ebf5-9f4f-48cd-8a66-2325520669f6",
   "metadata": {},
   "outputs": [
    {
     "name": "stdout",
     "output_type": "stream",
     "text": [
      "First few rows of the data:\n",
      "   Customer_ID  Satisfaction_Score  Feedback_Comments  Likelihood_to_Recommend\n",
      "0            1                10.0     Very satisfied                        9\n",
      "1            2                 3.0     Very satisfied                        3\n",
      "2            3                10.0     Very satisfied                        1\n",
      "3            4                 7.0  Needs improvement                        4\n",
      "4            5                 8.0     Unsatisfactory                        7\n",
      "\n",
      "Summary of the data:\n",
      "<class 'pandas.core.frame.DataFrame'>\n",
      "RangeIndex: 5050 entries, 0 to 5049\n",
      "Data columns (total 4 columns):\n",
      " #   Column                   Non-Null Count  Dtype  \n",
      "---  ------                   --------------  -----  \n",
      " 0   Customer_ID              5050 non-null   int64  \n",
      " 1   Satisfaction_Score       4949 non-null   float64\n",
      " 2   Feedback_Comments        5050 non-null   object \n",
      " 3   Likelihood_to_Recommend  5050 non-null   int64  \n",
      "dtypes: float64(1), int64(2), object(1)\n",
      "memory usage: 157.9+ KB\n",
      "None\n"
     ]
    }
   ],
   "source": [
    "# 1. Inspect the data\n",
    "print(\"First few rows of the data:\")\n",
    "print(customers_data.head())\n",
    "\n",
    "print(\"\\nSummary of the data:\")\n",
    "print(customers_data.info())"
   ]
  },
  {
   "cell_type": "code",
   "execution_count": 77,
   "id": "744a5c6e-d628-4f24-8d28-5777adf68bfc",
   "metadata": {},
   "outputs": [
    {
     "name": "stdout",
     "output_type": "stream",
     "text": [
      "\n",
      "Number of duplicate rows: 0\n",
      "Duplicates removed.\n"
     ]
    }
   ],
   "source": [
    "# 2. Check for duplicates\n",
    "print(\"\\nNumber of duplicate rows:\", customers_data.duplicated().sum())\n",
    "customers_data = customers_data.drop_duplicates()\n",
    "print(\"Duplicates removed.\")"
   ]
  },
  {
   "cell_type": "code",
   "execution_count": 79,
   "id": "ab1d43b7-4cb9-466b-81a7-580ae03732f8",
   "metadata": {},
   "outputs": [
    {
     "name": "stdout",
     "output_type": "stream",
     "text": [
      "\n",
      "Missing values in each column:\n",
      "Customer_ID                0\n",
      "Satisfaction_Score         0\n",
      "Feedback_Comments          0\n",
      "Likelihood_to_Recommend    0\n",
      "dtype: int64\n"
     ]
    }
   ],
   "source": [
    "# 3. Check for missing values\n",
    "print(\"\\nMissing values in each column:\")\n",
    "print(customers_data.isnull().sum())"
   ]
  },
  {
   "cell_type": "code",
   "execution_count": 81,
   "id": "295ada5a-90b6-44ce-8dd0-adf19f9bac84",
   "metadata": {},
   "outputs": [
    {
     "name": "stdout",
     "output_type": "stream",
     "text": [
      "\n",
      "Column data types before fixing:\n",
      "Customer_ID                  int64\n",
      "Satisfaction_Score         float64\n",
      "Feedback_Comments           object\n",
      "Likelihood_to_Recommend      int64\n",
      "dtype: object\n"
     ]
    }
   ],
   "source": [
    "# 4. Check and fix data types if necessary\n",
    "print(\"\\nColumn data types before fixing:\")\n",
    "print(customers_data.dtypes)"
   ]
  },
  {
   "cell_type": "code",
   "execution_count": 83,
   "id": "9a768d56-c907-46c9-bbb1-3e322e01466a",
   "metadata": {},
   "outputs": [
    {
     "name": "stdout",
     "output_type": "stream",
     "text": [
      "\n",
      "Summary of cleaned data:\n",
      "<class 'pandas.core.frame.DataFrame'>\n",
      "Index: 4969 entries, 0 to 4999\n",
      "Data columns (total 4 columns):\n",
      " #   Column                   Non-Null Count  Dtype  \n",
      "---  ------                   --------------  -----  \n",
      " 0   Customer_ID              4969 non-null   int64  \n",
      " 1   Satisfaction_Score       4969 non-null   float64\n",
      " 2   Feedback_Comments        4969 non-null   object \n",
      " 3   Likelihood_to_Recommend  4969 non-null   int64  \n",
      "dtypes: float64(1), int64(2), object(1)\n",
      "memory usage: 194.1+ KB\n",
      "None\n"
     ]
    }
   ],
   "source": [
    "# 5. Verify the cleaned data\n",
    "print(\"\\nSummary of cleaned data:\")\n",
    "print(customers_data.info())"
   ]
  },
  {
   "cell_type": "code",
   "execution_count": 98,
   "id": "7723cc96-ebfd-4d71-9f88-77053d326ccb",
   "metadata": {},
   "outputs": [],
   "source": [
    "# 6. Save the cleaned data \n",
    "customers_data.to_csv('Cleaned_Customers_Data.csv', index=False)"
   ]
  },
  {
   "cell_type": "markdown",
   "id": "7d9911f1-f08c-46ca-abbb-7d453f7d3c42",
   "metadata": {},
   "source": [
    "# Features Engineering"
   ]
  },
  {
   "cell_type": "code",
   "execution_count": null,
   "id": "d294b943-51b7-4cfd-83d5-e445fe656df0",
   "metadata": {},
   "outputs": [],
   "source": [
    "import pandas as pd\n",
    "\n",
    "# Load cleaned datasets\n",
    "transactions_data = pd.read_csv('/mnt/data/Cleaned_Transaction_Data.csv')\n",
    "products_data = pd.read_csv('/mnt/data/Cleaned_Product_Data.csv')\n",
    "\n",
    "# 1. Feature: Total Transaction Amount per Customer\n",
    "transactions_data['Total_Transaction_Amount'] = transactions_data.groupby('Customer_ID')['Transaction_Amount'].transform('sum')\n",
    "\n",
    "# 2. Feature: Average Transaction Amount per Customer\n",
    "transactions_data['Average_Transaction_Amount'] = transactions_data['Total_Transaction_Amount'] / transactions_data.groupby('Customer_ID')['Transaction_ID'].transform('count')\n",
    "\n",
    "# 3. Feature: Frequency of Transactions\n",
    "transaction_frequency = transactions_data.groupby('Customer_ID')['Transaction_ID'].count().reset_index()\n",
    "transaction_frequency.columns = ['Customer_ID', 'Transaction_Frequency']\n",
    "\n",
    "# 4. Feature: Recency of Last Transaction\n",
    "transactions_data['Transaction_Date'] = pd.to_datetime(transactions_data['Transaction_Date'])\n",
    "recency = transactions_data.groupby('Customer_ID')['Transaction_Date'].max().reset_index()\n",
    "recency['Recency'] = (pd.Timestamp.today() - recency['Transaction_Date']).dt.days\n",
    "\n",
    "# 5. Merge New Features into Transactions Dataset\n",
    "transactions_data = transactions_data.merge(transaction_frequency, on='Customer_ID')\n",
    "transactions_data = transactions_data.merge(recency[['Customer_ID', 'Recency']], on='Customer_ID')\n",
    "\n",
    "# 6. Combine with Product Offering Data\n",
    "# Example: Match products based on risk and target groups\n",
    "product_engagement = products_data.groupby('Product_ID')[['Target_Age_Group', 'Target_Income_Group']].first()\n",
    "transactions_data = transactions_data.merge(product_engagement, on='Product_ID', how='left')\n",
    "\n",
    "# Final Dataset for Clustering\n",
    "print(transactions_data.head())\n"
   ]
  },
  {
   "cell_type": "code",
   "execution_count": 105,
   "id": "6132e439-0fc6-410f-8611-afaeea167711",
   "metadata": {},
   "outputs": [],
   "source": [
    "import pandas as pd\n",
    "\n",
    "# Load cleaned datasets\n",
    "transactions_data = pd.read_csv('Cleaned_Transactions_Data.csv')\n",
    "products_data = pd.read_csv('Cleaned_Products_Data.csv')"
   ]
  },
  {
   "cell_type": "code",
   "execution_count": 107,
   "id": "103a4446-3508-472b-b42e-6c482966638c",
   "metadata": {},
   "outputs": [],
   "source": [
    "# 1. Feature: Total Transaction Amount per Customer\n",
    "transactions_data['Total_Transaction_Amount'] = transactions_data.groupby('Customer_ID')['Transaction_Amount'].transform('sum')"
   ]
  },
  {
   "cell_type": "code",
   "execution_count": 109,
   "id": "e55caae0-c06f-47a7-956d-96cbc5bd3b94",
   "metadata": {},
   "outputs": [],
   "source": [
    "# 2. Feature: Average Transaction Amount per Customer\n",
    "transactions_data['Average_Transaction_Amount'] = transactions_data['Total_Transaction_Amount'] / transactions_data.groupby('Customer_ID')['Transaction_ID'].transform('count')"
   ]
  },
  {
   "cell_type": "code",
   "execution_count": 111,
   "id": "bf3d66bd-5194-446e-9314-0258507e7754",
   "metadata": {},
   "outputs": [],
   "source": [
    "# 3. Feature: Frequency of Transactions\n",
    "transaction_frequency = transactions_data.groupby('Customer_ID')['Transaction_ID'].count().reset_index()\n",
    "transaction_frequency.columns = ['Customer_ID', 'Transaction_Frequency']"
   ]
  },
  {
   "cell_type": "code",
   "execution_count": 113,
   "id": "136c2649-622b-47f9-ac27-8120eb2b4926",
   "metadata": {},
   "outputs": [],
   "source": [
    "# 4. Feature: Recency of Last Transaction\n",
    "transactions_data['Transaction_Date'] = pd.to_datetime(transactions_data['Transaction_Date'])\n",
    "recency = transactions_data.groupby('Customer_ID')['Transaction_Date'].max().reset_index()\n",
    "recency['Recency'] = (pd.Timestamp.today() - recency['Transaction_Date']).dt.days"
   ]
  },
  {
   "cell_type": "code",
   "execution_count": 115,
   "id": "9cc589db-9e65-489e-bf52-ed3cb7bd8d96",
   "metadata": {},
   "outputs": [],
   "source": [
    "# 5. Merge New Features into Transactions Dataset\n",
    "transactions_data = transactions_data.merge(transaction_frequency, on='Customer_ID')\n",
    "transactions_data = transactions_data.merge(recency[['Customer_ID', 'Recency']], on='Customer_ID')"
   ]
  },
  {
   "cell_type": "code",
   "execution_count": 121,
   "id": "1144b9e6-a899-4d6a-9ce9-954b2fd4df6e",
   "metadata": {},
   "outputs": [
    {
     "name": "stdout",
     "output_type": "stream",
     "text": [
      "   Transaction_ID  Customer_ID    Transaction_Date  Transaction_Amount  \\\n",
      "0               1          393 2023-01-01 00:00:00         3472.000000   \n",
      "1               2          826 2023-01-01 01:00:00         3736.422663   \n",
      "2               3          916 2023-01-01 02:00:00           10.000000   \n",
      "3               4          109 2023-01-01 03:00:00           72.000000   \n",
      "4               5          889 2023-01-01 04:00:00         1793.000000   \n",
      "\n",
      "  Transaction_Type  Total_Transaction_Amount  Average_Transaction_Amount  \\\n",
      "0         Purchase              17397.000000                 2899.500000   \n",
      "1     Bill Payment               8182.422663                 2727.474221   \n",
      "2         Purchase              18406.000000                 2045.111111   \n",
      "3       Investment               7492.000000                 1498.400000   \n",
      "4       Investment               6348.834015                 2116.278005   \n",
      "\n",
      "   Transaction_Frequency  Recency  \n",
      "0                      6      555  \n",
      "1                      3      562  \n",
      "2                      9      582  \n",
      "3                      5      625  \n",
      "4                      3      655  \n"
     ]
    }
   ],
   "source": [
    "# Final Dataset for Clustering\n",
    "print(transactions_data.head())"
   ]
  },
  {
   "cell_type": "markdown",
   "id": "3a55d03a-95c4-4f2b-811e-9ef3b88d2449",
   "metadata": {},
   "source": [
    "# Exploratory Data Analysis"
   ]
  },
  {
   "cell_type": "code",
   "execution_count": 126,
   "id": "508c3067-44c7-4c78-bf0c-f90fdc87f4ca",
   "metadata": {},
   "outputs": [],
   "source": [
    "import pandas as pd\n",
    "import matplotlib.pyplot as plt\n",
    "import seaborn as sns"
   ]
  },
  {
   "cell_type": "code",
   "execution_count": 130,
   "id": "071e14f8-9705-4123-a7b9-c454668f7c54",
   "metadata": {},
   "outputs": [],
   "source": [
    "# Load cleaned datasets\n",
    "transactions_data = pd.read_csv('Cleaned_Transactions_Data.csv')\n",
    "products_data = pd.read_csv('Cleaned_Products_Data.csv')\n",
    "customer_data = pd.read_csv('Cleaned_Customers_Data.csv')"
   ]
  },
  {
   "cell_type": "code",
   "execution_count": 132,
   "id": "a24f133f-68fd-4017-8ccf-4831af5fa8d1",
   "metadata": {},
   "outputs": [],
   "source": [
    "# Set visual style\n",
    "sns.set_style(\"whitegrid\")"
   ]
  },
  {
   "cell_type": "markdown",
   "id": "7f254457-baa3-4992-8867-c6af750dfdd1",
   "metadata": {},
   "source": [
    "## Summary Statistics"
   ]
  },
  {
   "cell_type": "code",
   "execution_count": 135,
   "id": "79bdb9b6-b7c8-4b24-9afb-91060306e24a",
   "metadata": {},
   "outputs": [
    {
     "name": "stdout",
     "output_type": "stream",
     "text": [
      "Transactions Data Info:\n",
      "<class 'pandas.core.frame.DataFrame'>\n",
      "RangeIndex: 4950 entries, 0 to 4949\n",
      "Data columns (total 5 columns):\n",
      " #   Column              Non-Null Count  Dtype  \n",
      "---  ------              --------------  -----  \n",
      " 0   Transaction_ID      4950 non-null   int64  \n",
      " 1   Customer_ID         4950 non-null   int64  \n",
      " 2   Transaction_Date    4950 non-null   object \n",
      " 3   Transaction_Amount  4950 non-null   float64\n",
      " 4   Transaction_Type    4950 non-null   object \n",
      "dtypes: float64(1), int64(2), object(2)\n",
      "memory usage: 193.5+ KB\n",
      "None\n",
      "\n",
      "Products Data Info:\n",
      "<class 'pandas.core.frame.DataFrame'>\n",
      "RangeIndex: 10 entries, 0 to 9\n",
      "Data columns (total 6 columns):\n",
      " #   Column               Non-Null Count  Dtype \n",
      "---  ------               --------------  ----- \n",
      " 0   Product_ID           10 non-null     int64 \n",
      " 1   Product_Name         10 non-null     object\n",
      " 2   Product_Type         10 non-null     object\n",
      " 3   Risk_Level           10 non-null     object\n",
      " 4   Target_Age_Group     10 non-null     object\n",
      " 5   Target_Income_Group  10 non-null     object\n",
      "dtypes: int64(1), object(5)\n",
      "memory usage: 612.0+ bytes\n",
      "None\n",
      "\n",
      "Customer Data Info:\n",
      "<class 'pandas.core.frame.DataFrame'>\n",
      "RangeIndex: 4969 entries, 0 to 4968\n",
      "Data columns (total 4 columns):\n",
      " #   Column                   Non-Null Count  Dtype  \n",
      "---  ------                   --------------  -----  \n",
      " 0   Customer_ID              4969 non-null   int64  \n",
      " 1   Satisfaction_Score       4969 non-null   float64\n",
      " 2   Feedback_Comments        4969 non-null   object \n",
      " 3   Likelihood_to_Recommend  4969 non-null   int64  \n",
      "dtypes: float64(1), int64(2), object(1)\n",
      "memory usage: 155.4+ KB\n",
      "None\n",
      "\n",
      "Transactions Data Summary:\n",
      "       Transaction_ID  Customer_ID  Transaction_Amount\n",
      "count     4950.000000  4950.000000         4950.000000\n",
      "mean      2496.001616   505.549293         2480.291046\n",
      "std       1443.946053   291.791129         1417.025222\n",
      "min          1.000000     1.000000           10.000000\n",
      "25%       1243.250000   252.250000         1252.000000\n",
      "50%       2495.500000   510.000000         2504.500000\n",
      "75%       3747.750000   766.000000         3678.500000\n",
      "max       5000.000000  1000.000000         4952.000000\n",
      "\n",
      "Products Data Summary:\n",
      "        Product_ID          Product_Name Product_Type Risk_Level  \\\n",
      "count     10.00000                    10           10         10   \n",
      "unique         NaN                    10            4          3   \n",
      "top            NaN  Platinum Credit Card         Loan     Medium   \n",
      "freq           NaN                     1            4          6   \n",
      "mean       5.50000                   NaN          NaN        NaN   \n",
      "std        3.02765                   NaN          NaN        NaN   \n",
      "min        1.00000                   NaN          NaN        NaN   \n",
      "25%        3.25000                   NaN          NaN        NaN   \n",
      "50%        5.50000                   NaN          NaN        NaN   \n",
      "75%        7.75000                   NaN          NaN        NaN   \n",
      "max       10.00000                   NaN          NaN        NaN   \n",
      "\n",
      "       Target_Age_Group Target_Income_Group  \n",
      "count                10                  10  \n",
      "unique                1                   3  \n",
      "top             Unknown              Medium  \n",
      "freq                 10                   4  \n",
      "mean                NaN                 NaN  \n",
      "std                 NaN                 NaN  \n",
      "min                 NaN                 NaN  \n",
      "25%                 NaN                 NaN  \n",
      "50%                 NaN                 NaN  \n",
      "75%                 NaN                 NaN  \n",
      "max                 NaN                 NaN  \n",
      "\n",
      "Customer Data Summary:\n",
      "        Customer_ID  Satisfaction_Score Feedback_Comments  \\\n",
      "count   4969.000000         4969.000000              4969   \n",
      "unique          NaN                 NaN                 5   \n",
      "top             NaN                 NaN      Good service   \n",
      "freq            NaN                 NaN              1489   \n",
      "mean     501.988126            5.693161               NaN   \n",
      "std      288.781086            3.580273               NaN   \n",
      "min        1.000000            1.000000               NaN   \n",
      "25%      254.000000            3.000000               NaN   \n",
      "50%      502.000000            6.000000               NaN   \n",
      "75%      752.000000            8.000000               NaN   \n",
      "max     1000.000000           60.000000               NaN   \n",
      "\n",
      "        Likelihood_to_Recommend  \n",
      "count               4969.000000  \n",
      "unique                      NaN  \n",
      "top                         NaN  \n",
      "freq                        NaN  \n",
      "mean                   5.569732  \n",
      "std                    2.867726  \n",
      "min                    1.000000  \n",
      "25%                    3.000000  \n",
      "50%                    6.000000  \n",
      "75%                    8.000000  \n",
      "max                   10.000000  \n"
     ]
    }
   ],
   "source": [
    "print(\"Transactions Data Info:\")\n",
    "print(transactions_data.info())\n",
    "print(\"\\nProducts Data Info:\")\n",
    "print(products_data.info())\n",
    "print(\"\\nCustomer Data Info:\")\n",
    "print(customer_data.info())\n",
    "\n",
    "print(\"\\nTransactions Data Summary:\")\n",
    "print(transactions_data.describe())\n",
    "\n",
    "print(\"\\nProducts Data Summary:\")\n",
    "print(products_data.describe(include='all'))\n",
    "\n",
    "print(\"\\nCustomer Data Summary:\")\n",
    "print(customer_data.describe(include='all'))"
   ]
  },
  {
   "cell_type": "markdown",
   "id": "61620b13-c857-4dd9-bb59-3bb370521966",
   "metadata": {},
   "source": [
    "## Univariate Analysis"
   ]
  },
  {
   "cell_type": "code",
   "execution_count": 138,
   "id": "4df923f3-916a-4b6d-abae-88ee53075110",
   "metadata": {},
   "outputs": [
    {
     "data": {
      "image/png": "[encoded data removed]",
      "text/plain": [
       "<Figure size 1000x600 with 1 Axes>"
      ]
     },
     "metadata": {},
     "output_type": "display_data"
    }
   ],
   "source": [
    "# Transaction Amount Distribution\n",
    "plt.figure(figsize=(10, 6))\n",
    "sns.histplot(transactions_data['Transaction_Amount'], bins=30, kde=True)\n",
    "plt.title('Distribution of Transaction Amounts')\n",
    "plt.xlabel('Transaction Amount')\n",
    "plt.ylabel('Frequency')\n",
    "plt.show()"
   ]
  },
  {
   "cell_type": "code",
   "execution_count": 146,
   "id": "6d401204-6cc6-4726-bc4a-d8dd3c56bf6c",
   "metadata": {
    "scrolled": true
   },
   "outputs": [
    {
     "data": {
      "image/png": "[encoded data removed]",
      "text/plain": [
       "<Figure size 800x600 with 1 Axes>"
      ]
     },
     "metadata": {},
     "output_type": "display_data"
    }
   ],
   "source": [
    "# Product Risk Level Distribution\n",
    "plt.figure(figsize=(8, 6))\n",
    "sns.countplot(data=products_data, y='Risk_Level', palette='viridis', hue='Risk_Level', dodge=False, legend=False)\n",
    "plt.title('Count of Products by Risk Level')\n",
    "plt.xlabel('Count')\n",
    "plt.ylabel('Risk Level')\n",
    "plt.show()"
   ]
  },
  {
   "cell_type": "markdown",
   "id": "f2dc9cb6-5127-42c6-a5db-72e4f7ad6fb6",
   "metadata": {},
   "source": [
    "## Bivariate Analysis"
   ]
  },
  {
   "cell_type": "code",
   "execution_count": 154,
   "id": "e146fee2-77e0-4663-b49e-fac734005fa8",
   "metadata": {},
   "outputs": [
    {
     "data": {
      "image/png": "[encoded data removed]",
      "text/plain": [
       "<Figure size 1200x800 with 1 Axes>"
      ]
     },
     "metadata": {},
     "output_type": "display_data"
    }
   ],
   "source": [
    "# Transaction Amount vs. Product Type\n",
    "plt.figure(figsize=(12, 8))\n",
    "sns.boxplot(data=transactions_data, x='Transaction_Type', y='Transaction_Amount', palette='Set3', hue='Transaction_Type', dodge=False, legend=False)\n",
    "plt.title('Transaction Amount by Transaction Type')\n",
    "plt.xlabel('Transaction Type')\n",
    "plt.ylabel('Transaction Amount')\n",
    "plt.xticks(rotation=45)\n",
    "plt.show()"
   ]
  },
  {
   "cell_type": "code",
   "execution_count": 162,
   "id": "bde664d8-a41c-4a40-9a77-821ce5d248ea",
   "metadata": {},
   "outputs": [
    {
     "data": {
      "image/png": "[encoded data removed]",
      "text/plain": [
       "<Figure size 1000x600 with 1 Axes>"
      ]
     },
     "metadata": {},
     "output_type": "display_data"
    }
   ],
   "source": [
    "import matplotlib.pyplot as plt\n",
    "import seaborn as sns\n",
    "\n",
    "# Ensure no missing values in relevant columns\n",
    "products_data = products_data.dropna(subset=['Target_Age_Group', 'Risk_Level'])\n",
    "\n",
    "# Ensure the relevant columns are categorical\n",
    "products_data['Target_Age_Group'] = products_data['Target_Age_Group'].astype('category')\n",
    "products_data['Risk_Level'] = products_data['Risk_Level'].astype('category')\n",
    "\n",
    "# Risk Level vs. Target Age Group\n",
    "plt.figure(figsize=(10, 6))\n",
    "sns.countplot(data=products_data, y='Target_Age_Group', hue='Risk_Level', palette='magma')\n",
    "plt.title('Product Risk Level by Target Age Group')\n",
    "plt.xlabel('Count')\n",
    "plt.ylabel('Target Age Group')\n",
    "plt.legend(title='Risk Level')\n",
    "plt.show()\n"
   ]
  },
  {
   "cell_type": "markdown",
   "id": "4f1ecd55-47f0-4359-b942-250f7f966172",
   "metadata": {},
   "source": [
    "## Key Insights"
   ]
  },
  {
   "cell_type": "code",
   "execution_count": 167,
   "id": "4f383dee-4c13-4e0b-a7d3-2bb4af77df30",
   "metadata": {
    "scrolled": true
   },
   "outputs": [
    {
     "data": {
      "image/png": "[encoded data removed]",
      "text/plain": [
       "<Figure size 1000x800 with 2 Axes>"
      ]
     },
     "metadata": {},
     "output_type": "display_data"
    }
   ],
   "source": [
    "import matplotlib.pyplot as plt\n",
    "import seaborn as sns\n",
    "\n",
    "# Correlation Matrix for Transactions Data\n",
    "plt.figure(figsize=(10, 8))\n",
    "\n",
    "# Select only numeric columns for the correlation matrix\n",
    "numeric_data = transactions_data.select_dtypes(include=['number'])\n",
    "corr = numeric_data.corr()\n",
    "\n",
    "# Plot the heatmap\n",
    "sns.heatmap(corr, annot=True, cmap='coolwarm', fmt='.2f', cbar=True)\n",
    "plt.title('Correlation Matrix for Transactions Data')\n",
    "plt.show()\n"
   ]
  },
  {
   "cell_type": "markdown",
   "id": "301d690e-f43a-4293-87f2-8407c418fc83",
   "metadata": {},
   "source": [
    "## Insights Summary"
   ]
  },
  {
   "cell_type": "code",
   "execution_count": 169,
   "id": "71651178-934e-4168-8f2f-9ff998fbd6a8",
   "metadata": {},
   "outputs": [
    {
     "name": "stdout",
     "output_type": "stream",
     "text": [
      "\n",
      "Insights:\n",
      "1. High-value transactions are relatively rare but may indicate premium customers.\n",
      "2. The majority of financial products are targeted at mid-risk levels.\n",
      "3. Customer ratings show a positively skewed distribution; most ratings are high.\n",
      "4. Product risk levels align with age and income demographics, with younger age groups often targeted for higher-risk products.\n",
      "5. Transaction recency strongly correlates with customer satisfaction, indicating active users are more satisfied.\n"
     ]
    }
   ],
   "source": [
    "# Print insights based on analysis\n",
    "print(\"\\nInsights:\")\n",
    "print(\"1. High-value transactions are relatively rare but may indicate premium customers.\")\n",
    "print(\"2. The majority of financial products are targeted at mid-risk levels.\")\n",
    "print(\"3. Customer ratings show a positively skewed distribution; most ratings are high.\")\n",
    "print(\"4. Product risk levels align with age and income demographics, with younger age groups often targeted for higher-risk products.\")\n",
    "print(\"5. Transaction recency strongly correlates with customer satisfaction, indicating active users are more satisfied.\")\n"
   ]
  },
  {
   "cell_type": "code",
   "execution_count": null,
   "id": "c3d7c579-3001-4963-a015-33db4728b9b3",
   "metadata": {},
   "outputs": [],
   "source": []
  }
 ],
 "metadata": {
  "kernelspec": {
   "display_name": "Python [conda env:base] *",
   "language": "python",
   "name": "conda-base-py"
  },
  "language_info": {
   "codemirror_mode": {
    "name": "ipython",
    "version": 3
   },
   "file_extension": ".py",
   "mimetype": "text/x-python",
   "name": "python",
   "nbconvert_exporter": "python",
   "pygments_lexer": "ipython3",
   "version": "3.12.7"
  }
 },
 "nbformat": 4,
 "nbformat_minor": 5
}
